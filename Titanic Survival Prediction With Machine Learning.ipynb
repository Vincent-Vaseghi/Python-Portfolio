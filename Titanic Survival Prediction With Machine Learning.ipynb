{
 "cells": [
  {
   "cell_type": "code",
   "execution_count": 1,
   "id": "d27f3308",
   "metadata": {
    "_cell_guid": "b1076dfc-b9ad-4769-8c92-a6c4dae69d19",
    "_uuid": "8f2839f25d086af736a60e9eeb907d3b93b6e0e5",
    "execution": {
     "iopub.execute_input": "2022-08-07T21:40:05.050037Z",
     "iopub.status.busy": "2022-08-07T21:40:05.049573Z",
     "iopub.status.idle": "2022-08-07T21:40:06.493418Z",
     "shell.execute_reply": "2022-08-07T21:40:06.492457Z"
    },
    "papermill": {
     "duration": 1.455961,
     "end_time": "2022-08-07T21:40:06.498936",
     "exception": false,
     "start_time": "2022-08-07T21:40:05.042975",
     "status": "completed"
    },
    "tags": []
   },
   "outputs": [
    {
     "name": "stdout",
     "output_type": "stream",
     "text": [
      "/kaggle/input/titanic/train.csv\n",
      "/kaggle/input/titanic/test.csv\n",
      "/kaggle/input/titanic/gender_submission.csv\n"
     ]
    }
   ],
   "source": [
    "import numpy as np\n",
    "import pandas as pd \n",
    "\n",
    "from sklearn.compose import ColumnTransformer\n",
    "from sklearn.pipeline import Pipeline\n",
    "from sklearn.impute import SimpleImputer\n",
    "from sklearn.preprocessing import OneHotEncoder\n",
    "from sklearn.model_selection import train_test_split\n",
    "from sklearn.ensemble import RandomForestClassifier\n",
    "from sklearn.ensemble import RandomForestRegressor\n",
    "from sklearn.metrics import mean_absolute_error\n",
    "from xgboost import XGBRegressor\n",
    "\n",
    "\n",
    "import os\n",
    "for dirname, _, filenames in os.walk('/kaggle/input'):\n",
    "    for filename in filenames:\n",
    "        print(os.path.join(dirname, filename))"
   ]
  },
  {
   "cell_type": "code",
   "execution_count": 2,
   "id": "98974e2c",
   "metadata": {
    "execution": {
     "iopub.execute_input": "2022-08-07T21:40:06.508628Z",
     "iopub.status.busy": "2022-08-07T21:40:06.508051Z",
     "iopub.status.idle": "2022-08-07T21:40:06.548018Z",
     "shell.execute_reply": "2022-08-07T21:40:06.547003Z"
    },
    "papermill": {
     "duration": 0.047067,
     "end_time": "2022-08-07T21:40:06.550098",
     "exception": false,
     "start_time": "2022-08-07T21:40:06.503031",
     "status": "completed"
    },
    "tags": []
   },
   "outputs": [
    {
     "data": {
      "text/html": [
       "<div>\n",
       "<style scoped>\n",
       "    .dataframe tbody tr th:only-of-type {\n",
       "        vertical-align: middle;\n",
       "    }\n",
       "\n",
       "    .dataframe tbody tr th {\n",
       "        vertical-align: top;\n",
       "    }\n",
       "\n",
       "    .dataframe thead th {\n",
       "        text-align: right;\n",
       "    }\n",
       "</style>\n",
       "<table border=\"1\" class=\"dataframe\">\n",
       "  <thead>\n",
       "    <tr style=\"text-align: right;\">\n",
       "      <th></th>\n",
       "      <th>PassengerId</th>\n",
       "      <th>Survived</th>\n",
       "      <th>Pclass</th>\n",
       "      <th>Name</th>\n",
       "      <th>Sex</th>\n",
       "      <th>Age</th>\n",
       "      <th>SibSp</th>\n",
       "      <th>Parch</th>\n",
       "      <th>Ticket</th>\n",
       "      <th>Fare</th>\n",
       "      <th>Cabin</th>\n",
       "      <th>Embarked</th>\n",
       "    </tr>\n",
       "  </thead>\n",
       "  <tbody>\n",
       "    <tr>\n",
       "      <th>0</th>\n",
       "      <td>1</td>\n",
       "      <td>0</td>\n",
       "      <td>3</td>\n",
       "      <td>Braund, Mr. Owen Harris</td>\n",
       "      <td>male</td>\n",
       "      <td>22.0</td>\n",
       "      <td>1</td>\n",
       "      <td>0</td>\n",
       "      <td>A/5 21171</td>\n",
       "      <td>7.2500</td>\n",
       "      <td>NaN</td>\n",
       "      <td>S</td>\n",
       "    </tr>\n",
       "    <tr>\n",
       "      <th>1</th>\n",
       "      <td>2</td>\n",
       "      <td>1</td>\n",
       "      <td>1</td>\n",
       "      <td>Cumings, Mrs. John Bradley (Florence Briggs Th...</td>\n",
       "      <td>female</td>\n",
       "      <td>38.0</td>\n",
       "      <td>1</td>\n",
       "      <td>0</td>\n",
       "      <td>PC 17599</td>\n",
       "      <td>71.2833</td>\n",
       "      <td>C85</td>\n",
       "      <td>C</td>\n",
       "    </tr>\n",
       "    <tr>\n",
       "      <th>2</th>\n",
       "      <td>3</td>\n",
       "      <td>1</td>\n",
       "      <td>3</td>\n",
       "      <td>Heikkinen, Miss. Laina</td>\n",
       "      <td>female</td>\n",
       "      <td>26.0</td>\n",
       "      <td>0</td>\n",
       "      <td>0</td>\n",
       "      <td>STON/O2. 3101282</td>\n",
       "      <td>7.9250</td>\n",
       "      <td>NaN</td>\n",
       "      <td>S</td>\n",
       "    </tr>\n",
       "    <tr>\n",
       "      <th>3</th>\n",
       "      <td>4</td>\n",
       "      <td>1</td>\n",
       "      <td>1</td>\n",
       "      <td>Futrelle, Mrs. Jacques Heath (Lily May Peel)</td>\n",
       "      <td>female</td>\n",
       "      <td>35.0</td>\n",
       "      <td>1</td>\n",
       "      <td>0</td>\n",
       "      <td>113803</td>\n",
       "      <td>53.1000</td>\n",
       "      <td>C123</td>\n",
       "      <td>S</td>\n",
       "    </tr>\n",
       "    <tr>\n",
       "      <th>4</th>\n",
       "      <td>5</td>\n",
       "      <td>0</td>\n",
       "      <td>3</td>\n",
       "      <td>Allen, Mr. William Henry</td>\n",
       "      <td>male</td>\n",
       "      <td>35.0</td>\n",
       "      <td>0</td>\n",
       "      <td>0</td>\n",
       "      <td>373450</td>\n",
       "      <td>8.0500</td>\n",
       "      <td>NaN</td>\n",
       "      <td>S</td>\n",
       "    </tr>\n",
       "  </tbody>\n",
       "</table>\n",
       "</div>"
      ],
      "text/plain": [
       "   PassengerId  Survived  Pclass  \\\n",
       "0            1         0       3   \n",
       "1            2         1       1   \n",
       "2            3         1       3   \n",
       "3            4         1       1   \n",
       "4            5         0       3   \n",
       "\n",
       "                                                Name     Sex   Age  SibSp  \\\n",
       "0                            Braund, Mr. Owen Harris    male  22.0      1   \n",
       "1  Cumings, Mrs. John Bradley (Florence Briggs Th...  female  38.0      1   \n",
       "2                             Heikkinen, Miss. Laina  female  26.0      0   \n",
       "3       Futrelle, Mrs. Jacques Heath (Lily May Peel)  female  35.0      1   \n",
       "4                           Allen, Mr. William Henry    male  35.0      0   \n",
       "\n",
       "   Parch            Ticket     Fare Cabin Embarked  \n",
       "0      0         A/5 21171   7.2500   NaN        S  \n",
       "1      0          PC 17599  71.2833   C85        C  \n",
       "2      0  STON/O2. 3101282   7.9250   NaN        S  \n",
       "3      0            113803  53.1000  C123        S  \n",
       "4      0            373450   8.0500   NaN        S  "
      ]
     },
     "execution_count": 2,
     "metadata": {},
     "output_type": "execute_result"
    }
   ],
   "source": [
    "train_data = pd.read_csv(\"/kaggle/input/titanic/train.csv\")\n",
    "train_data.head()"
   ]
  },
  {
   "cell_type": "code",
   "execution_count": 3,
   "id": "9bb575b5",
   "metadata": {
    "execution": {
     "iopub.execute_input": "2022-08-07T21:40:06.560197Z",
     "iopub.status.busy": "2022-08-07T21:40:06.559681Z",
     "iopub.status.idle": "2022-08-07T21:40:06.568401Z",
     "shell.execute_reply": "2022-08-07T21:40:06.567520Z"
    },
    "papermill": {
     "duration": 0.016146,
     "end_time": "2022-08-07T21:40:06.570535",
     "exception": false,
     "start_time": "2022-08-07T21:40:06.554389",
     "status": "completed"
    },
    "tags": []
   },
   "outputs": [
    {
     "data": {
      "text/plain": [
       "PassengerId      0\n",
       "Survived         0\n",
       "Pclass           0\n",
       "Name             0\n",
       "Sex              0\n",
       "Age            177\n",
       "SibSp            0\n",
       "Parch            0\n",
       "Ticket           0\n",
       "Fare             0\n",
       "Cabin          687\n",
       "Embarked         2\n",
       "dtype: int64"
      ]
     },
     "execution_count": 3,
     "metadata": {},
     "output_type": "execute_result"
    }
   ],
   "source": [
    "train_data.isnull().sum()"
   ]
  },
  {
   "cell_type": "code",
   "execution_count": 4,
   "id": "e5771860",
   "metadata": {
    "execution": {
     "iopub.execute_input": "2022-08-07T21:40:06.580467Z",
     "iopub.status.busy": "2022-08-07T21:40:06.580063Z",
     "iopub.status.idle": "2022-08-07T21:40:06.603882Z",
     "shell.execute_reply": "2022-08-07T21:40:06.602829Z"
    },
    "papermill": {
     "duration": 0.031414,
     "end_time": "2022-08-07T21:40:06.606300",
     "exception": false,
     "start_time": "2022-08-07T21:40:06.574886",
     "status": "completed"
    },
    "tags": []
   },
   "outputs": [
    {
     "data": {
      "text/html": [
       "<div>\n",
       "<style scoped>\n",
       "    .dataframe tbody tr th:only-of-type {\n",
       "        vertical-align: middle;\n",
       "    }\n",
       "\n",
       "    .dataframe tbody tr th {\n",
       "        vertical-align: top;\n",
       "    }\n",
       "\n",
       "    .dataframe thead th {\n",
       "        text-align: right;\n",
       "    }\n",
       "</style>\n",
       "<table border=\"1\" class=\"dataframe\">\n",
       "  <thead>\n",
       "    <tr style=\"text-align: right;\">\n",
       "      <th></th>\n",
       "      <th>PassengerId</th>\n",
       "      <th>Pclass</th>\n",
       "      <th>Name</th>\n",
       "      <th>Sex</th>\n",
       "      <th>Age</th>\n",
       "      <th>SibSp</th>\n",
       "      <th>Parch</th>\n",
       "      <th>Ticket</th>\n",
       "      <th>Fare</th>\n",
       "      <th>Cabin</th>\n",
       "      <th>Embarked</th>\n",
       "    </tr>\n",
       "  </thead>\n",
       "  <tbody>\n",
       "    <tr>\n",
       "      <th>0</th>\n",
       "      <td>892</td>\n",
       "      <td>3</td>\n",
       "      <td>Kelly, Mr. James</td>\n",
       "      <td>male</td>\n",
       "      <td>34.5</td>\n",
       "      <td>0</td>\n",
       "      <td>0</td>\n",
       "      <td>330911</td>\n",
       "      <td>7.8292</td>\n",
       "      <td>NaN</td>\n",
       "      <td>Q</td>\n",
       "    </tr>\n",
       "    <tr>\n",
       "      <th>1</th>\n",
       "      <td>893</td>\n",
       "      <td>3</td>\n",
       "      <td>Wilkes, Mrs. James (Ellen Needs)</td>\n",
       "      <td>female</td>\n",
       "      <td>47.0</td>\n",
       "      <td>1</td>\n",
       "      <td>0</td>\n",
       "      <td>363272</td>\n",
       "      <td>7.0000</td>\n",
       "      <td>NaN</td>\n",
       "      <td>S</td>\n",
       "    </tr>\n",
       "    <tr>\n",
       "      <th>2</th>\n",
       "      <td>894</td>\n",
       "      <td>2</td>\n",
       "      <td>Myles, Mr. Thomas Francis</td>\n",
       "      <td>male</td>\n",
       "      <td>62.0</td>\n",
       "      <td>0</td>\n",
       "      <td>0</td>\n",
       "      <td>240276</td>\n",
       "      <td>9.6875</td>\n",
       "      <td>NaN</td>\n",
       "      <td>Q</td>\n",
       "    </tr>\n",
       "    <tr>\n",
       "      <th>3</th>\n",
       "      <td>895</td>\n",
       "      <td>3</td>\n",
       "      <td>Wirz, Mr. Albert</td>\n",
       "      <td>male</td>\n",
       "      <td>27.0</td>\n",
       "      <td>0</td>\n",
       "      <td>0</td>\n",
       "      <td>315154</td>\n",
       "      <td>8.6625</td>\n",
       "      <td>NaN</td>\n",
       "      <td>S</td>\n",
       "    </tr>\n",
       "    <tr>\n",
       "      <th>4</th>\n",
       "      <td>896</td>\n",
       "      <td>3</td>\n",
       "      <td>Hirvonen, Mrs. Alexander (Helga E Lindqvist)</td>\n",
       "      <td>female</td>\n",
       "      <td>22.0</td>\n",
       "      <td>1</td>\n",
       "      <td>1</td>\n",
       "      <td>3101298</td>\n",
       "      <td>12.2875</td>\n",
       "      <td>NaN</td>\n",
       "      <td>S</td>\n",
       "    </tr>\n",
       "  </tbody>\n",
       "</table>\n",
       "</div>"
      ],
      "text/plain": [
       "   PassengerId  Pclass                                          Name     Sex  \\\n",
       "0          892       3                              Kelly, Mr. James    male   \n",
       "1          893       3              Wilkes, Mrs. James (Ellen Needs)  female   \n",
       "2          894       2                     Myles, Mr. Thomas Francis    male   \n",
       "3          895       3                              Wirz, Mr. Albert    male   \n",
       "4          896       3  Hirvonen, Mrs. Alexander (Helga E Lindqvist)  female   \n",
       "\n",
       "    Age  SibSp  Parch   Ticket     Fare Cabin Embarked  \n",
       "0  34.5      0      0   330911   7.8292   NaN        Q  \n",
       "1  47.0      1      0   363272   7.0000   NaN        S  \n",
       "2  62.0      0      0   240276   9.6875   NaN        Q  \n",
       "3  27.0      0      0   315154   8.6625   NaN        S  \n",
       "4  22.0      1      1  3101298  12.2875   NaN        S  "
      ]
     },
     "execution_count": 4,
     "metadata": {},
     "output_type": "execute_result"
    }
   ],
   "source": [
    "test_data = pd.read_csv(\"/kaggle/input/titanic/test.csv\")\n",
    "test_data.head()"
   ]
  },
  {
   "cell_type": "code",
   "execution_count": 5,
   "id": "dd5a2ecd",
   "metadata": {
    "execution": {
     "iopub.execute_input": "2022-08-07T21:40:06.617411Z",
     "iopub.status.busy": "2022-08-07T21:40:06.616706Z",
     "iopub.status.idle": "2022-08-07T21:40:06.626294Z",
     "shell.execute_reply": "2022-08-07T21:40:06.625486Z"
    },
    "papermill": {
     "duration": 0.017257,
     "end_time": "2022-08-07T21:40:06.628311",
     "exception": false,
     "start_time": "2022-08-07T21:40:06.611054",
     "status": "completed"
    },
    "tags": []
   },
   "outputs": [
    {
     "data": {
      "text/plain": [
       "PassengerId      0\n",
       "Pclass           0\n",
       "Name             0\n",
       "Sex              0\n",
       "Age             86\n",
       "SibSp            0\n",
       "Parch            0\n",
       "Ticket           0\n",
       "Fare             1\n",
       "Cabin          327\n",
       "Embarked         0\n",
       "dtype: int64"
      ]
     },
     "execution_count": 5,
     "metadata": {},
     "output_type": "execute_result"
    }
   ],
   "source": [
    "test_data.isnull().sum()"
   ]
  },
  {
   "cell_type": "code",
   "execution_count": 6,
   "id": "96115ba4",
   "metadata": {
    "execution": {
     "iopub.execute_input": "2022-08-07T21:40:06.639808Z",
     "iopub.status.busy": "2022-08-07T21:40:06.639275Z",
     "iopub.status.idle": "2022-08-07T21:40:06.669714Z",
     "shell.execute_reply": "2022-08-07T21:40:06.668622Z"
    },
    "papermill": {
     "duration": 0.039468,
     "end_time": "2022-08-07T21:40:06.672568",
     "exception": false,
     "start_time": "2022-08-07T21:40:06.633100",
     "status": "completed"
    },
    "tags": []
   },
   "outputs": [],
   "source": [
    "# Filling the missing values in Age with the medians of Sex and Pclass groups\n",
    "train_data['Age'] = train_data.groupby(['Sex', 'Pclass'])['Age'].apply(lambda x: x.fillna(x.median()))\n",
    "test_data['Age'] = test_data.groupby(['Sex', 'Pclass'])['Age'].apply(lambda x: x.fillna(x.median()))"
   ]
  },
  {
   "cell_type": "code",
   "execution_count": 7,
   "id": "65b32971",
   "metadata": {
    "execution": {
     "iopub.execute_input": "2022-08-07T21:40:06.684885Z",
     "iopub.status.busy": "2022-08-07T21:40:06.683903Z",
     "iopub.status.idle": "2022-08-07T21:40:06.701899Z",
     "shell.execute_reply": "2022-08-07T21:40:06.700953Z"
    },
    "papermill": {
     "duration": 0.02645,
     "end_time": "2022-08-07T21:40:06.704052",
     "exception": false,
     "start_time": "2022-08-07T21:40:06.677602",
     "status": "completed"
    },
    "tags": []
   },
   "outputs": [],
   "source": [
    "y_train = train_data[\"Survived\"]\n",
    "X_train = train_data.loc[:, train_data.columns!='Survived'].copy()\n",
    "\n",
    "# Select categorical columns with relatively low cardinality (convenient but arbitrary)\n",
    "categorical_cols = [cname for cname in X_train.columns if X_train[cname].nunique() < 10 and \n",
    "                        X_train[cname].dtype == \"object\"]\n",
    "\n",
    "# Select numerical columns\n",
    "numerical_cols = [cname for cname in X_train.columns if X_train[cname].dtype in ['int64', 'float64']]\n",
    "\n",
    "# Keep selected columns only\n",
    "my_cols = categorical_cols + numerical_cols\n",
    "X_train = X_train[my_cols].copy()\n",
    "X_test = test_data[my_cols].copy()\n",
    "\n",
    "# features = [\"Pclass\", \"Fare\", \"Sex\", \"SibSp\", \"Parch\"]\n",
    "# X_train = pd.get_dummies(train_data[features])\n",
    "# X_test = pd.get_dummies(test_data[features])\n",
    "\n",
    "\n",
    "# Preprocessing for numerical data\n",
    "numerical_transformer = SimpleImputer(strategy='constant')\n",
    "\n",
    "# Preprocessing for categorical data\n",
    "categorical_transformer = Pipeline(steps=[\n",
    "    ('imputer', SimpleImputer(strategy='most_frequent')),\n",
    "    ('onehot', OneHotEncoder(handle_unknown='ignore'))\n",
    "])\n",
    "\n",
    "# Bundle preprocessing for numerical and categorical data\n",
    "preprocessor = ColumnTransformer(\n",
    "    transformers=[\n",
    "        ('num', numerical_transformer, numerical_cols),\n",
    "        ('cat', categorical_transformer, categorical_cols)\n",
    "    ])"
   ]
  },
  {
   "cell_type": "markdown",
   "id": "35974ed4",
   "metadata": {
    "papermill": {
     "duration": 0.004393,
     "end_time": "2022-08-07T21:40:06.713387",
     "exception": false,
     "start_time": "2022-08-07T21:40:06.708994",
     "status": "completed"
    },
    "tags": []
   },
   "source": [
    "### RandomForestClassifier"
   ]
  },
  {
   "cell_type": "code",
   "execution_count": 8,
   "id": "48e2b7b0",
   "metadata": {
    "execution": {
     "iopub.execute_input": "2022-08-07T21:40:06.724362Z",
     "iopub.status.busy": "2022-08-07T21:40:06.723406Z",
     "iopub.status.idle": "2022-08-07T21:40:06.943665Z",
     "shell.execute_reply": "2022-08-07T21:40:06.942438Z"
    },
    "papermill": {
     "duration": 0.228238,
     "end_time": "2022-08-07T21:40:06.946062",
     "exception": false,
     "start_time": "2022-08-07T21:40:06.717824",
     "status": "completed"
    },
    "tags": []
   },
   "outputs": [],
   "source": [
    "model1 = RandomForestClassifier(n_estimators=100, max_depth=5, random_state=1)\n",
    "\n",
    "pipeline1 = Pipeline(steps=[('preprocessor', preprocessor),\n",
    "                              ('model', model1)\n",
    "                             ])\n",
    "\n",
    "pipeline1.fit(X_train, y_train)\n",
    "predictions1 = pipeline1.predict(X_test)"
   ]
  },
  {
   "cell_type": "markdown",
   "id": "f8257ac8",
   "metadata": {
    "papermill": {
     "duration": 0.004476,
     "end_time": "2022-08-07T21:40:06.955317",
     "exception": false,
     "start_time": "2022-08-07T21:40:06.950841",
     "status": "completed"
    },
    "tags": []
   },
   "source": [
    "### RandomForestRegressor"
   ]
  },
  {
   "cell_type": "code",
   "execution_count": 9,
   "id": "036da41c",
   "metadata": {
    "execution": {
     "iopub.execute_input": "2022-08-07T21:40:06.966748Z",
     "iopub.status.busy": "2022-08-07T21:40:06.965874Z",
     "iopub.status.idle": "2022-08-07T21:40:06.970674Z",
     "shell.execute_reply": "2022-08-07T21:40:06.969695Z"
    },
    "papermill": {
     "duration": 0.013048,
     "end_time": "2022-08-07T21:40:06.973099",
     "exception": false,
     "start_time": "2022-08-07T21:40:06.960051",
     "status": "completed"
    },
    "tags": []
   },
   "outputs": [],
   "source": [
    "#model2 = RandomForestRegressor(n_estimators=100, random_state=0)\n",
    "\n",
    "# Bundle preprocessing and modeling code in a pipeline\n",
    "#pipeline2 = Pipeline(steps=[('preprocessor', preprocessor),\n",
    "#                              ('model', model2)\n",
    "#                             ])\n",
    "\n",
    "# Preprocessing of training data, fit model \n",
    "#pipeline2.fit(X_train, y_train)\n",
    "\n",
    "# Preprocessing of validation data, get predictions\n",
    "#predictions2 = pipeline2.predict(X_test)\n",
    "\n",
    "# Evaluating the model\n",
    "# score = mean_absolute_error(y_test, predictions2)\n",
    "# print('MAE:', score)"
   ]
  },
  {
   "cell_type": "markdown",
   "id": "3d6d89c1",
   "metadata": {
    "papermill": {
     "duration": 0.0044,
     "end_time": "2022-08-07T21:40:06.982336",
     "exception": false,
     "start_time": "2022-08-07T21:40:06.977936",
     "status": "completed"
    },
    "tags": []
   },
   "source": [
    "### XGBoost"
   ]
  },
  {
   "cell_type": "code",
   "execution_count": 10,
   "id": "c2e52ab2",
   "metadata": {
    "_kg_hide-output": true,
    "execution": {
     "iopub.execute_input": "2022-08-07T21:40:06.993237Z",
     "iopub.status.busy": "2022-08-07T21:40:06.992833Z",
     "iopub.status.idle": "2022-08-07T21:40:06.996943Z",
     "shell.execute_reply": "2022-08-07T21:40:06.996033Z"
    },
    "papermill": {
     "duration": 0.012097,
     "end_time": "2022-08-07T21:40:06.999039",
     "exception": false,
     "start_time": "2022-08-07T21:40:06.986942",
     "status": "completed"
    },
    "scrolled": true,
    "tags": []
   },
   "outputs": [],
   "source": [
    "#model3 = XGBRegressor(n_estimators=1000, learning_rate=0.05, n_jobs=4)\n",
    "\n",
    "#pipeline3 = Pipeline(steps=[('preprocessor', preprocessor),\n",
    "#                              ('model', model3)\n",
    "#                             ])\n",
    "\n",
    "#pipeline3.fit(X_train, y_train)\n",
    "\n",
    "\n",
    "#predictions3 = pipeline3.predict(X_test)\n",
    "#print(\"Mean Absolute Error: \" + str(mean_absolute_error(predictions, y_test)))"
   ]
  },
  {
   "cell_type": "code",
   "execution_count": 11,
   "id": "771392f0",
   "metadata": {
    "execution": {
     "iopub.execute_input": "2022-08-07T21:40:07.010399Z",
     "iopub.status.busy": "2022-08-07T21:40:07.009671Z",
     "iopub.status.idle": "2022-08-07T21:40:07.020315Z",
     "shell.execute_reply": "2022-08-07T21:40:07.019278Z"
    },
    "papermill": {
     "duration": 0.019684,
     "end_time": "2022-08-07T21:40:07.023413",
     "exception": false,
     "start_time": "2022-08-07T21:40:07.003729",
     "status": "completed"
    },
    "tags": []
   },
   "outputs": [
    {
     "name": "stdout",
     "output_type": "stream",
     "text": [
      "Done!\n"
     ]
    }
   ],
   "source": [
    "output = pd.DataFrame({'PassengerId': test_data.PassengerId, 'Survived': predictions1})\n",
    "output.to_csv('submission.csv', index=False)\n",
    "print(\"Done!\")"
   ]
  }
 ],
 "metadata": {
  "kernelspec": {
   "display_name": "Python 3",
   "language": "python",
   "name": "python3"
  },
  "language_info": {
   "codemirror_mode": {
    "name": "ipython",
    "version": 3
   },
   "file_extension": ".py",
   "mimetype": "text/x-python",
   "name": "python",
   "nbconvert_exporter": "python",
   "pygments_lexer": "ipython3",
   "version": "3.7.12"
  },
  "papermill": {
   "default_parameters": {},
   "duration": 12.213995,
   "end_time": "2022-08-07T21:40:07.850299",
   "environment_variables": {},
   "exception": null,
   "input_path": "__notebook__.ipynb",
   "output_path": "__notebook__.ipynb",
   "parameters": {},
   "start_time": "2022-08-07T21:39:55.636304",
   "version": "2.3.4"
  }
 },
 "nbformat": 4,
 "nbformat_minor": 5
}
